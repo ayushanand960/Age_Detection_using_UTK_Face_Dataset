{
  "nbformat": 4,
  "nbformat_minor": 0,
  "metadata": {
    "colab": {
      "provenance": [],
      "gpuType": "T4",
      "toc_visible": true,
      "authorship_tag": "ABX9TyPa9jBSRAnAhLudnmPDGGgO",
      "include_colab_link": true
    },
    "kernelspec": {
      "name": "python3",
      "display_name": "Python 3"
    },
    "language_info": {
      "name": "python"
    },
    "accelerator": "GPU"
  },
  "cells": [
    {
      "cell_type": "markdown",
      "metadata": {
        "id": "view-in-github",
        "colab_type": "text"
      },
      "source": [
        "<a href=\"https://colab.research.google.com/github/ayushanand960/Age_Detection_using_UTK_Face_Dataset/blob/main/age_detection_model.ipynb\" target=\"_parent\"><img src=\"https://colab.research.google.com/assets/colab-badge.svg\" alt=\"Open In Colab\"/></a>"
      ]
    },
    {
      "cell_type": "markdown",
      "source": [
        "**Mount Google Drive**"
      ],
      "metadata": {
        "id": "OGxWYs_9wvtH"
      }
    },
    {
      "cell_type": "code",
      "execution_count": 1,
      "metadata": {
        "colab": {
          "base_uri": "https://localhost:8080/"
        },
        "id": "9cGMU8H7uZ2W",
        "outputId": "19aa1bc7-6c0c-4ca1-9210-ffbed5c74a24"
      },
      "outputs": [
        {
          "output_type": "stream",
          "name": "stdout",
          "text": [
            "Mounted at /content/drive\n"
          ]
        }
      ],
      "source": [
        "from google.colab import drive\n",
        "drive.mount('/content/drive')"
      ]
    },
    {
      "cell_type": "markdown",
      "source": [
        "**Importing Libraries**\n"
      ],
      "metadata": {
        "id": "HhnpuFETxPYo"
      }
    },
    {
      "cell_type": "code",
      "source": [
        "import zipfile\n",
        "import os\n",
        "import numpy as np\n",
        "import tensorflow as tf\n",
        "from tensorflow.keras.preprocessing.image import ImageDataGenerator\n",
        "from tensorflow.keras.applications import VGG16\n",
        "from tensorflow.keras.layers import Dense, Flatten, Dropout\n",
        "from tensorflow.keras.models import Model\n",
        "from tensorflow.keras.optimizers import Adam"
      ],
      "metadata": {
        "id": "0pj54EP-u9BP"
      },
      "execution_count": 2,
      "outputs": []
    },
    {
      "cell_type": "markdown",
      "source": [
        "**Check For GPU**"
      ],
      "metadata": {
        "id": "PFkQzp2qvE5v"
      }
    },
    {
      "cell_type": "code",
      "source": [
        "device_name = tf.test.gpu_device_name()\n",
        "if device_name != '/device:GPU:0':\n",
        "    raise SystemError('GPU device not found')\n",
        "print('Found GPU at: {}'.format(device_name))"
      ],
      "metadata": {
        "colab": {
          "base_uri": "https://localhost:8080/"
        },
        "id": "RW0lL8t4vI5-",
        "outputId": "995d050c-cbc3-438f-d10e-9808e55e0933"
      },
      "execution_count": 3,
      "outputs": [
        {
          "output_type": "stream",
          "name": "stdout",
          "text": [
            "Found GPU at: /device:GPU:0\n"
          ]
        }
      ]
    },
    {
      "cell_type": "markdown",
      "source": [
        "**Importing Dataset**"
      ],
      "metadata": {
        "id": "YWYe_JKPxwZa"
      }
    },
    {
      "cell_type": "code",
      "source": [
        "zip_file_path = '/content/drive/MyDrive/UTKFace_Dataset.zip'  # Change this to your zip file path\n",
        "extract_path = '/content/UTKFace'\n",
        "with zipfile.ZipFile(zip_file_path, 'r') as zip_ref:\n",
        "    zip_ref.extractall(extract_path)"
      ],
      "metadata": {
        "id": "J-QeIE3y3xHc"
      },
      "execution_count": 4,
      "outputs": []
    },
    {
      "cell_type": "markdown",
      "source": [
        "**Extracting DataSet**"
      ],
      "metadata": {
        "id": "bxciYoYYx5T_"
      }
    },
    {
      "cell_type": "code",
      "source": [
        "data_dir = extract_path  # Use the extracted path\n",
        "train_datagen = ImageDataGenerator(rescale=1./255, validation_split=0.2)\n",
        "\n",
        "train_generator = train_datagen.flow_from_directory(\n",
        "    data_dir,\n",
        "    target_size=(200, 200),\n",
        "    batch_size=32,\n",
        "    class_mode='sparse',  # Use 'sparse' for age regression\n",
        "    subset='training'\n",
        ")\n",
        "\n",
        "validation_generator = train_datagen.flow_from_directory(\n",
        "    data_dir,\n",
        "    target_size=(200, 200),\n",
        "    batch_size=32,\n",
        "    class_mode='sparse',  # Use 'sparse' for age regression\n",
        "    subset='validation'\n",
        ")"
      ],
      "metadata": {
        "colab": {
          "base_uri": "https://localhost:8080/"
        },
        "id": "0s01Spw94JjP",
        "outputId": "f7a919f4-330d-464e-907c-42749c5973b1"
      },
      "execution_count": 5,
      "outputs": [
        {
          "output_type": "stream",
          "name": "stdout",
          "text": [
            "Found 53582 images belonging to 3 classes.\n",
            "Found 13394 images belonging to 3 classes.\n"
          ]
        }
      ]
    },
    {
      "cell_type": "markdown",
      "source": [
        "**Importing Pre-trained Model**"
      ],
      "metadata": {
        "id": "kwDiSXSayKuH"
      }
    },
    {
      "cell_type": "code",
      "source": [
        "base_model = VGG16(weights='imagenet', include_top=False, input_shape=(200, 200, 3))"
      ],
      "metadata": {
        "id": "Es1s2knJ5-GI",
        "colab": {
          "base_uri": "https://localhost:8080/"
        },
        "outputId": "70cc139d-ac24-4800-b95d-2fd5c631b46b"
      },
      "execution_count": 6,
      "outputs": [
        {
          "output_type": "stream",
          "name": "stdout",
          "text": [
            "Downloading data from https://storage.googleapis.com/tensorflow/keras-applications/vgg16/vgg16_weights_tf_dim_ordering_tf_kernels_notop.h5\n",
            "\u001b[1m58889256/58889256\u001b[0m \u001b[32m━━━━━━━━━━━━━━━━━━━━\u001b[0m\u001b[37m\u001b[0m \u001b[1m4s\u001b[0m 0us/step\n"
          ]
        }
      ]
    },
    {
      "cell_type": "markdown",
      "source": [
        "# CNN Architecture"
      ],
      "metadata": {
        "id": "WX-fHp-UyRkh"
      }
    },
    {
      "cell_type": "code",
      "source": [
        "x = base_model.output\n",
        "x = Flatten()(x)\n",
        "x = Dense(512, activation='relu')(x)\n",
        "x = Dropout(0.5)(x)\n",
        "predictions = Dense(1, activation='linear')(x)  # For age prediction\n",
        "model = Model(inputs=base_model.input, outputs=predictions)\n"
      ],
      "metadata": {
        "id": "Lc90trg66P82"
      },
      "execution_count": 7,
      "outputs": []
    },
    {
      "cell_type": "code",
      "source": [
        "model.compile(optimizer=Adam(learning_rate=1e-4), loss='mean_squared_error', metrics=['mae'])"
      ],
      "metadata": {
        "id": "vwxfluhS6ViS"
      },
      "execution_count": 8,
      "outputs": []
    },
    {
      "cell_type": "code",
      "source": [
        "history = model.fit(\n",
        "    train_generator,\n",
        "    validation_data=validation_generator,\n",
        "    epochs=15,\n",
        "    steps_per_epoch=len(train_generator),\n",
        "    validation_steps=len(validation_generator)\n",
        ")\n"
      ],
      "metadata": {
        "colab": {
          "base_uri": "https://localhost:8080/"
        },
        "id": "hhi6-T7b63nD",
        "outputId": "6582a2d5-d66e-460c-9039-b73fbf9dcaa0"
      },
      "execution_count": 9,
      "outputs": [
        {
          "output_type": "stream",
          "name": "stdout",
          "text": [
            "Epoch 1/15\n"
          ]
        },
        {
          "output_type": "stream",
          "name": "stderr",
          "text": [
            "/usr/local/lib/python3.11/dist-packages/keras/src/trainers/data_adapters/py_dataset_adapter.py:122: UserWarning: Your `PyDataset` class should call `super().__init__(**kwargs)` in its constructor. `**kwargs` can include `workers`, `use_multiprocessing`, `max_queue_size`. Do not pass these arguments to `fit()`, as they will be ignored.\n",
            "  self._warn_if_super_not_called()\n"
          ]
        },
        {
          "output_type": "stream",
          "name": "stdout",
          "text": [
            "\u001b[1m1675/1675\u001b[0m \u001b[32m━━━━━━━━━━━━━━━━━━━━\u001b[0m\u001b[37m\u001b[0m \u001b[1m867s\u001b[0m 493ms/step - loss: 0.9467 - mae: 0.8791 - val_loss: 0.8765 - val_mae: 0.8778\n",
            "Epoch 2/15\n",
            "\u001b[1m1675/1675\u001b[0m \u001b[32m━━━━━━━━━━━━━━━━━━━━\u001b[0m\u001b[37m\u001b[0m \u001b[1m0s\u001b[0m 17us/step - loss: 0.0000e+00 - mae: 0.0000e+00\n",
            "Epoch 3/15\n"
          ]
        },
        {
          "output_type": "stream",
          "name": "stderr",
          "text": [
            "/usr/lib/python3.11/contextlib.py:158: UserWarning: Your input ran out of data; interrupting training. Make sure that your dataset or generator can generate at least `steps_per_epoch * epochs` batches. You may need to use the `.repeat()` function when building your dataset.\n",
            "  self.gen.throw(typ, value, traceback)\n"
          ]
        },
        {
          "output_type": "stream",
          "name": "stdout",
          "text": [
            "\u001b[1m1675/1675\u001b[0m \u001b[32m━━━━━━━━━━━━━━━━━━━━\u001b[0m\u001b[37m\u001b[0m \u001b[1m782s\u001b[0m 467ms/step - loss: 0.8455 - mae: 0.8527 - val_loss: 0.8613 - val_mae: 0.8720\n",
            "Epoch 4/15\n",
            "\u001b[1m1675/1675\u001b[0m \u001b[32m━━━━━━━━━━━━━━━━━━━━\u001b[0m\u001b[37m\u001b[0m \u001b[1m34s\u001b[0m 20ms/step - loss: 0.0000e+00 - mae: 0.0000e+00\n",
            "Epoch 5/15\n",
            "\u001b[1m1675/1675\u001b[0m \u001b[32m━━━━━━━━━━━━━━━━━━━━\u001b[0m\u001b[37m\u001b[0m \u001b[1m779s\u001b[0m 465ms/step - loss: 0.8368 - mae: 0.8508 - val_loss: 0.9165 - val_mae: 0.8903\n",
            "Epoch 6/15\n",
            "\u001b[1m1675/1675\u001b[0m \u001b[32m━━━━━━━━━━━━━━━━━━━━\u001b[0m\u001b[37m\u001b[0m \u001b[1m34s\u001b[0m 20ms/step - loss: 0.0000e+00 - mae: 0.0000e+00\n",
            "Epoch 7/15\n",
            "\u001b[1m1675/1675\u001b[0m \u001b[32m━━━━━━━━━━━━━━━━━━━━\u001b[0m\u001b[37m\u001b[0m \u001b[1m826s\u001b[0m 464ms/step - loss: 0.8373 - mae: 0.8514 - val_loss: 0.8742 - val_mae: 0.8764\n",
            "Epoch 8/15\n",
            "\u001b[1m1675/1675\u001b[0m \u001b[32m━━━━━━━━━━━━━━━━━━━━\u001b[0m\u001b[37m\u001b[0m \u001b[1m34s\u001b[0m 21ms/step - loss: 0.0000e+00 - mae: 0.0000e+00\n",
            "Epoch 9/15\n",
            "\u001b[1m1675/1675\u001b[0m \u001b[32m━━━━━━━━━━━━━━━━━━━━\u001b[0m\u001b[37m\u001b[0m \u001b[1m824s\u001b[0m 462ms/step - loss: 0.8357 - mae: 0.8514 - val_loss: 0.9113 - val_mae: 0.8903\n",
            "Epoch 10/15\n",
            "\u001b[1m1675/1675\u001b[0m \u001b[32m━━━━━━━━━━━━━━━━━━━━\u001b[0m\u001b[37m\u001b[0m \u001b[1m0s\u001b[0m 8us/step - loss: 0.0000e+00 - mae: 0.0000e+00\n",
            "Epoch 11/15\n",
            "\u001b[1m1675/1675\u001b[0m \u001b[32m━━━━━━━━━━━━━━━━━━━━\u001b[0m\u001b[37m\u001b[0m \u001b[1m798s\u001b[0m 459ms/step - loss: 0.8334 - mae: 0.8513 - val_loss: 0.8717 - val_mae: 0.8773\n",
            "Epoch 12/15\n",
            "\u001b[1m1675/1675\u001b[0m \u001b[32m━━━━━━━━━━━━━━━━━━━━\u001b[0m\u001b[37m\u001b[0m \u001b[1m35s\u001b[0m 21ms/step - loss: 0.0000e+00 - mae: 0.0000e+00\n",
            "Epoch 13/15\n",
            "\u001b[1m1675/1675\u001b[0m \u001b[32m━━━━━━━━━━━━━━━━━━━━\u001b[0m\u001b[37m\u001b[0m \u001b[1m825s\u001b[0m 458ms/step - loss: 0.8351 - mae: 0.8513 - val_loss: 0.8884 - val_mae: 0.8854\n",
            "Epoch 14/15\n",
            "\u001b[1m1675/1675\u001b[0m \u001b[32m━━━━━━━━━━━━━━━━━━━━\u001b[0m\u001b[37m\u001b[0m \u001b[1m35s\u001b[0m 21ms/step - loss: 0.0000e+00 - mae: 0.0000e+00\n",
            "Epoch 15/15\n",
            "\u001b[1m1675/1675\u001b[0m \u001b[32m━━━━━━━━━━━━━━━━━━━━\u001b[0m\u001b[37m\u001b[0m \u001b[1m763s\u001b[0m 456ms/step - loss: 0.8297 - mae: 0.8495 - val_loss: 0.8843 - val_mae: 0.8822\n"
          ]
        }
      ]
    },
    {
      "cell_type": "markdown",
      "source": [
        "# Fine Tunning pre-trained CNN model"
      ],
      "metadata": {
        "id": "RI01eKjYyap7"
      }
    },
    {
      "cell_type": "code",
      "source": [
        "for layer in base_model.layers[-4:]:  # Unfreeze the last 4 layers\n",
        "    layer.trainable = True\n",
        "\n",
        "model.compile(optimizer=Adam(learning_rate=1e-5), loss='mean_squared_error', metrics=['mae'])\n",
        "history_fine = model.fit(\n",
        "    train_generator,\n",
        "    validation_data=validation_generator,\n",
        "    epochs=20,\n",
        "    steps_per_epoch=len(train_generator),\n",
        "    validation_steps=len(validation_generator)\n",
        ")\n"
      ],
      "metadata": {
        "id": "SMev_hvYVpZG",
        "colab": {
          "base_uri": "https://localhost:8080/"
        },
        "outputId": "340a5a64-468a-492c-8ea4-d0210680b2e3"
      },
      "execution_count": 10,
      "outputs": [
        {
          "output_type": "stream",
          "name": "stdout",
          "text": [
            "Epoch 1/20\n",
            "\u001b[1m1675/1675\u001b[0m \u001b[32m━━━━━━━━━━━━━━━━━━━━\u001b[0m\u001b[37m\u001b[0m \u001b[1m773s\u001b[0m 457ms/step - loss: 0.8250 - mae: 0.8466 - val_loss: 0.9011 - val_mae: 0.8894\n",
            "Epoch 2/20\n",
            "\u001b[1m1675/1675\u001b[0m \u001b[32m━━━━━━━━━━━━━━━━━━━━\u001b[0m\u001b[37m\u001b[0m \u001b[1m35s\u001b[0m 21ms/step - loss: 0.0000e+00 - mae: 0.0000e+00\n",
            "Epoch 3/20\n",
            "\u001b[1m1675/1675\u001b[0m \u001b[32m━━━━━━━━━━━━━━━━━━━━\u001b[0m\u001b[37m\u001b[0m \u001b[1m763s\u001b[0m 455ms/step - loss: 0.8237 - mae: 0.8465 - val_loss: 0.9009 - val_mae: 0.8905\n",
            "Epoch 4/20\n",
            "\u001b[1m1675/1675\u001b[0m \u001b[32m━━━━━━━━━━━━━━━━━━━━\u001b[0m\u001b[37m\u001b[0m \u001b[1m0s\u001b[0m 7us/step - loss: 0.0000e+00 - mae: 0.0000e+00\n",
            "Epoch 5/20\n",
            "\u001b[1m1675/1675\u001b[0m \u001b[32m━━━━━━━━━━━━━━━━━━━━\u001b[0m\u001b[37m\u001b[0m \u001b[1m763s\u001b[0m 456ms/step - loss: 0.8211 - mae: 0.8456 - val_loss: 0.9054 - val_mae: 0.8923\n",
            "Epoch 6/20\n",
            "\u001b[1m1675/1675\u001b[0m \u001b[32m━━━━━━━━━━━━━━━━━━━━\u001b[0m\u001b[37m\u001b[0m \u001b[1m0s\u001b[0m 8us/step - loss: 0.0000e+00 - mae: 0.0000e+00\n",
            "Epoch 7/20\n",
            "\u001b[1m1675/1675\u001b[0m \u001b[32m━━━━━━━━━━━━━━━━━━━━\u001b[0m\u001b[37m\u001b[0m \u001b[1m763s\u001b[0m 455ms/step - loss: 0.8223 - mae: 0.8448 - val_loss: 0.9105 - val_mae: 0.8943\n",
            "Epoch 8/20\n",
            "\u001b[1m1675/1675\u001b[0m \u001b[32m━━━━━━━━━━━━━━━━━━━━\u001b[0m\u001b[37m\u001b[0m \u001b[1m35s\u001b[0m 21ms/step - loss: 0.0000e+00 - mae: 0.0000e+00\n",
            "Epoch 9/20\n",
            "\u001b[1m1675/1675\u001b[0m \u001b[32m━━━━━━━━━━━━━━━━━━━━\u001b[0m\u001b[37m\u001b[0m \u001b[1m768s\u001b[0m 456ms/step - loss: 0.8249 - mae: 0.8469 - val_loss: 0.9118 - val_mae: 0.8947\n",
            "Epoch 10/20\n",
            "\u001b[1m1675/1675\u001b[0m \u001b[32m━━━━━━━━━━━━━━━━━━━━\u001b[0m\u001b[37m\u001b[0m \u001b[1m35s\u001b[0m 21ms/step - loss: 0.0000e+00 - mae: 0.0000e+00\n",
            "Epoch 11/20\n",
            "\u001b[1m1675/1675\u001b[0m \u001b[32m━━━━━━━━━━━━━━━━━━━━\u001b[0m\u001b[37m\u001b[0m \u001b[1m768s\u001b[0m 456ms/step - loss: 0.8242 - mae: 0.8466 - val_loss: 0.9074 - val_mae: 0.8933\n",
            "Epoch 12/20\n",
            "\u001b[1m1675/1675\u001b[0m \u001b[32m━━━━━━━━━━━━━━━━━━━━\u001b[0m\u001b[37m\u001b[0m \u001b[1m0s\u001b[0m 10us/step - loss: 0.0000e+00 - mae: 0.0000e+00\n",
            "Epoch 13/20\n",
            "\u001b[1m1675/1675\u001b[0m \u001b[32m━━━━━━━━━━━━━━━━━━━━\u001b[0m\u001b[37m\u001b[0m \u001b[1m765s\u001b[0m 456ms/step - loss: 0.8256 - mae: 0.8489 - val_loss: 0.9137 - val_mae: 0.8957\n",
            "Epoch 14/20\n",
            "\u001b[1m1675/1675\u001b[0m \u001b[32m━━━━━━━━━━━━━━━━━━━━\u001b[0m\u001b[37m\u001b[0m \u001b[1m35s\u001b[0m 21ms/step - loss: 0.0000e+00 - mae: 0.0000e+00\n",
            "Epoch 15/20\n",
            "\u001b[1m1675/1675\u001b[0m \u001b[32m━━━━━━━━━━━━━━━━━━━━\u001b[0m\u001b[37m\u001b[0m \u001b[1m768s\u001b[0m 457ms/step - loss: 0.8239 - mae: 0.8471 - val_loss: 0.9135 - val_mae: 0.8953\n",
            "Epoch 16/20\n",
            "\u001b[1m1675/1675\u001b[0m \u001b[32m━━━━━━━━━━━━━━━━━━━━\u001b[0m\u001b[37m\u001b[0m \u001b[1m35s\u001b[0m 21ms/step - loss: 0.0000e+00 - mae: 0.0000e+00\n",
            "Epoch 17/20\n",
            "\u001b[1m1675/1675\u001b[0m \u001b[32m━━━━━━━━━━━━━━━━━━━━\u001b[0m\u001b[37m\u001b[0m \u001b[1m766s\u001b[0m 457ms/step - loss: 0.8230 - mae: 0.8464 - val_loss: 0.9256 - val_mae: 0.8976\n",
            "Epoch 18/20\n",
            "\u001b[1m1675/1675\u001b[0m \u001b[32m━━━━━━━━━━━━━━━━━━━━\u001b[0m\u001b[37m\u001b[0m \u001b[1m0s\u001b[0m 9us/step - loss: 0.0000e+00 - mae: 0.0000e+00\n",
            "Epoch 19/20\n",
            "\u001b[1m1675/1675\u001b[0m \u001b[32m━━━━━━━━━━━━━━━━━━━━\u001b[0m\u001b[37m\u001b[0m \u001b[1m766s\u001b[0m 457ms/step - loss: 0.8227 - mae: 0.8461 - val_loss: 0.9168 - val_mae: 0.8973\n",
            "Epoch 20/20\n",
            "\u001b[1m1675/1675\u001b[0m \u001b[32m━━━━━━━━━━━━━━━━━━━━\u001b[0m\u001b[37m\u001b[0m \u001b[1m0s\u001b[0m 11us/step - loss: 0.0000e+00 - mae: 0.0000e+00\n"
          ]
        }
      ]
    },
    {
      "cell_type": "markdown",
      "source": [
        "**Checking accuracy**"
      ],
      "metadata": {
        "id": "PXP4Bf5Hyp0W"
      }
    },
    {
      "cell_type": "code",
      "source": [
        "test_loss, test_mae = model.evaluate(validation_generator)\n",
        "print(f'Test MAE: {test_mae}')"
      ],
      "metadata": {
        "id": "9R8CKKrh7pH6",
        "colab": {
          "base_uri": "https://localhost:8080/"
        },
        "outputId": "c5aac706-d383-4e3d-9117-db2097ee1270"
      },
      "execution_count": 11,
      "outputs": [
        {
          "output_type": "stream",
          "name": "stdout",
          "text": [
            "\u001b[1m419/419\u001b[0m \u001b[32m━━━━━━━━━━━━━━━━━━━━\u001b[0m\u001b[37m\u001b[0m \u001b[1m50s\u001b[0m 118ms/step - loss: 0.9177 - mae: 0.8983\n",
            "Test MAE: 0.8972932696342468\n"
          ]
        }
      ]
    },
    {
      "cell_type": "code",
      "source": [
        "test_loss, test_accuracy = model.evaluate(validation_generator)\n",
        "print(f'Test Accuracy: {test_accuracy:.2f}')"
      ],
      "metadata": {
        "colab": {
          "base_uri": "https://localhost:8080/"
        },
        "id": "dYlsKzHKvBPC",
        "outputId": "162093d6-8fa7-43c0-c002-4c3a0ba643f9"
      },
      "execution_count": 13,
      "outputs": [
        {
          "output_type": "stream",
          "name": "stdout",
          "text": [
            "\u001b[1m419/419\u001b[0m \u001b[32m━━━━━━━━━━━━━━━━━━━━\u001b[0m\u001b[37m\u001b[0m \u001b[1m50s\u001b[0m 119ms/step - loss: 0.9225 - mae: 0.9014\n",
            "Test Accuracy: 0.90\n"
          ]
        }
      ]
    },
    {
      "cell_type": "markdown",
      "source": [
        "**Saving Model**"
      ],
      "metadata": {
        "id": "8mqW_Wj-yvEI"
      }
    },
    {
      "cell_type": "code",
      "source": [
        "model.save('/content/drive/MyDrive/age_detection_model.h5')  # Change this to your desired save path"
      ],
      "metadata": {
        "id": "Q2JGitPP7tvN",
        "colab": {
          "base_uri": "https://localhost:8080/"
        },
        "outputId": "1c3f83c5-b359-4716-d210-1db0c1c40d89"
      },
      "execution_count": 14,
      "outputs": [
        {
          "output_type": "stream",
          "name": "stderr",
          "text": [
            "WARNING:absl:You are saving your model as an HDF5 file via `model.save()` or `keras.saving.save_model(model)`. This file format is considered legacy. We recommend using instead the native Keras format, e.g. `model.save('my_model.keras')` or `keras.saving.save_model(model, 'my_model.keras')`. \n"
          ]
        }
      ]
    }
  ]
}